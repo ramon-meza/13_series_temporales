{
  "cells": [
    {
      "cell_type": "markdown",
      "metadata": {
        "id": "IJaIKpPyOFDL"
      },
      "source": [
        "# Descripción del proyecto\n",
        "\n",
        "La compañía Sweet Lift Taxi ha recopilado datos históricos sobre pedidos de taxis en los aeropuertos. Para atraer a más conductores durante las horas pico, necesitamos predecir la cantidad de pedidos de taxis para la próxima hora. Construye un modelo para dicha predicción.\n",
        "\n",
        "La métrica RECM en el conjunto de prueba no debe ser superior a 48.\n",
        "\n",
        "## Instrucciones del proyecto.\n",
        "\n",
        "1. Descarga los datos y haz el remuestreo por una hora.\n",
        "2. Analiza los datos\n",
        "3. Entrena diferentes modelos con diferentes hiperparámetros. La muestra de prueba debe ser el 10% del conjunto de datos inicial.4. Prueba los datos usando la muestra de prueba y proporciona una conclusión.\n",
        "\n",
        "## Descripción de los datos\n",
        "\n",
        "Los datos se almacenan en el archivo `taxi.csv`. \t\n",
        "El número de pedidos está en la columna `num_orders`."
      ]
    },
    {
      "cell_type": "code",
      "execution_count": null,
      "metadata": {
        "id": "2EzjZgh5OFDM"
      },
      "outputs": [],
      "source": [
        "#Librerías que vamos a usar \n",
        "import pandas as pd\n",
        "from sklearn.model_selection import train_test_split\n",
        "from sklearn.linear_model import LinearRegression\n",
        "from sklearn.metrics import mean_absolute_error\n",
        "from sklearn.preprocessing import StandardScaler \n",
        "from sklearn.ensemble import RandomForestRegressor\n",
        "from math import sqrt\n",
        "from sklearn.tree import DecisionTreeRegressor\n",
        "from sklearn.model_selection import GridSearchCV\n",
        "import lightgbm as lgb\n",
        "from sklearn.metrics import mean_squared_error\n",
        "import numpy as np"
      ]
    },
    {
      "cell_type": "code",
      "execution_count": null,
      "metadata": {
        "id": "XtW5go7GOFDN",
        "outputId": "dec234c9-0710-49af-cd96-d9f5ea0af84f"
      },
      "outputs": [
        {
          "name": "stdout",
          "output_type": "stream",
          "text": [
            "<class 'pandas.core.frame.DataFrame'>\n",
            "RangeIndex: 26496 entries, 0 to 26495\n",
            "Data columns (total 2 columns):\n",
            " #   Column      Non-Null Count  Dtype \n",
            "---  ------      --------------  ----- \n",
            " 0   datetime    26496 non-null  object\n",
            " 1   num_orders  26496 non-null  int64 \n",
            "dtypes: int64(1), object(1)\n",
            "memory usage: 414.1+ KB\n"
          ]
        }
      ],
      "source": [
        "data = pd.read_csv('/datasets/taxi.csv')\n",
        "data.info()"
      ]
    },
    {
      "cell_type": "code",
      "execution_count": null,
      "metadata": {
        "id": "Qdt9anPBOFDN",
        "outputId": "6307e4d9-de23-43ea-f2a6-7fa98f51c692"
      },
      "outputs": [
        {
          "data": {
            "text/html": [
              "<div>\n",
              "<style scoped>\n",
              "    .dataframe tbody tr th:only-of-type {\n",
              "        vertical-align: middle;\n",
              "    }\n",
              "\n",
              "    .dataframe tbody tr th {\n",
              "        vertical-align: top;\n",
              "    }\n",
              "\n",
              "    .dataframe thead th {\n",
              "        text-align: right;\n",
              "    }\n",
              "</style>\n",
              "<table border=\"1\" class=\"dataframe\">\n",
              "  <thead>\n",
              "    <tr style=\"text-align: right;\">\n",
              "      <th></th>\n",
              "      <th>num_orders</th>\n",
              "    </tr>\n",
              "    <tr>\n",
              "      <th>datetime</th>\n",
              "      <th></th>\n",
              "    </tr>\n",
              "  </thead>\n",
              "  <tbody>\n",
              "    <tr>\n",
              "      <th>2018-03-01 00:00:00</th>\n",
              "      <td>9</td>\n",
              "    </tr>\n",
              "    <tr>\n",
              "      <th>2018-03-01 00:10:00</th>\n",
              "      <td>14</td>\n",
              "    </tr>\n",
              "    <tr>\n",
              "      <th>2018-03-01 00:20:00</th>\n",
              "      <td>28</td>\n",
              "    </tr>\n",
              "    <tr>\n",
              "      <th>2018-03-01 00:30:00</th>\n",
              "      <td>20</td>\n",
              "    </tr>\n",
              "    <tr>\n",
              "      <th>2018-03-01 00:40:00</th>\n",
              "      <td>32</td>\n",
              "    </tr>\n",
              "    <tr>\n",
              "      <th>...</th>\n",
              "      <td>...</td>\n",
              "    </tr>\n",
              "    <tr>\n",
              "      <th>2018-08-31 23:10:00</th>\n",
              "      <td>32</td>\n",
              "    </tr>\n",
              "    <tr>\n",
              "      <th>2018-08-31 23:20:00</th>\n",
              "      <td>24</td>\n",
              "    </tr>\n",
              "    <tr>\n",
              "      <th>2018-08-31 23:30:00</th>\n",
              "      <td>27</td>\n",
              "    </tr>\n",
              "    <tr>\n",
              "      <th>2018-08-31 23:40:00</th>\n",
              "      <td>39</td>\n",
              "    </tr>\n",
              "    <tr>\n",
              "      <th>2018-08-31 23:50:00</th>\n",
              "      <td>53</td>\n",
              "    </tr>\n",
              "  </tbody>\n",
              "</table>\n",
              "<p>26496 rows × 1 columns</p>\n",
              "</div>"
            ],
            "text/plain": [
              "                     num_orders\n",
              "datetime                       \n",
              "2018-03-01 00:00:00           9\n",
              "2018-03-01 00:10:00          14\n",
              "2018-03-01 00:20:00          28\n",
              "2018-03-01 00:30:00          20\n",
              "2018-03-01 00:40:00          32\n",
              "...                         ...\n",
              "2018-08-31 23:10:00          32\n",
              "2018-08-31 23:20:00          24\n",
              "2018-08-31 23:30:00          27\n",
              "2018-08-31 23:40:00          39\n",
              "2018-08-31 23:50:00          53\n",
              "\n",
              "[26496 rows x 1 columns]"
            ]
          },
          "execution_count": 3,
          "metadata": {},
          "output_type": "execute_result"
        }
      ],
      "source": [
        "#Cambiamos el tipo de datos de la columna datetime de tipo object a datetime64(parse_dates)\n",
        "#Establecemos la columna datetime como el indice de nuestra tabla (index_col)\n",
        "data = pd.read_csv('/datasets/taxi.csv', index_col=[0], parse_dates=[0])\n",
        "data"
      ]
    },
    {
      "cell_type": "code",
      "execution_count": null,
      "metadata": {
        "id": "MxEPqzYOOFDO",
        "outputId": "2e6178bb-fa50-46db-cc98-485b06ffa34e"
      },
      "outputs": [
        {
          "data": {
            "text/plain": [
              "num_orders    0\n",
              "dtype: int64"
            ]
          },
          "execution_count": 4,
          "metadata": {},
          "output_type": "execute_result"
        }
      ],
      "source": [
        "#Explorando valores ausentes\n",
        "data.isna().sum()"
      ]
    },
    {
      "cell_type": "markdown",
      "metadata": {
        "id": "vBZjYqSjOFDO"
      },
      "source": [
        "No tenemos valores ausentes en nuestro conjunto de datos y se han cambiado al formato adecuado para poder trabajar con ellos. "
      ]
    },
    {
      "cell_type": "markdown",
      "metadata": {
        "id": "BEhv6wddOFDP"
      },
      "source": [
        "## Preparación"
      ]
    },
    {
      "cell_type": "markdown",
      "metadata": {
        "id": "RDAy6OtmOFDP"
      },
      "source": [
        "### Orden de nuestro indice "
      ]
    },
    {
      "cell_type": "code",
      "execution_count": null,
      "metadata": {
        "id": "4-f8QihUOFDP",
        "outputId": "4b6b19d8-5aba-47d0-c49b-cbc3dbf18262"
      },
      "outputs": [
        {
          "name": "stdout",
          "output_type": "stream",
          "text": [
            "True\n",
            "<class 'pandas.core.frame.DataFrame'>\n",
            "DatetimeIndex: 26496 entries, 2018-03-01 00:00:00 to 2018-08-31 23:50:00\n",
            "Data columns (total 1 columns):\n",
            " #   Column      Non-Null Count  Dtype\n",
            "---  ------      --------------  -----\n",
            " 0   num_orders  26496 non-null  int64\n",
            "dtypes: int64(1)\n",
            "memory usage: 414.0 KB\n",
            "None\n"
          ]
        }
      ],
      "source": [
        "data.sort_index(inplace=True) #Ordenamos cronologicamente el index. \n",
        "print(data.index.is_monotonic) #Usamos el método is_monotonic para comprobar si el indice está en orden cronologico \n",
        "print(data.info())"
      ]
    },
    {
      "cell_type": "code",
      "execution_count": null,
      "metadata": {
        "id": "s7AJVO6dOFDQ",
        "outputId": "2e8e2f48-ca3e-460c-850d-bb7812bcd0e7"
      },
      "outputs": [
        {
          "name": "stdout",
          "output_type": "stream",
          "text": [
            "2018-03-01 00:00:00\n",
            "2018-08-31 23:50:00\n"
          ]
        }
      ],
      "source": [
        "#Vemos el rango que tienen nuestros datos\n",
        "print(data.index.min())\n",
        "print(data.index.max())"
      ]
    },
    {
      "cell_type": "code",
      "execution_count": null,
      "metadata": {
        "id": "iw4_LdfsOFDQ",
        "outputId": "1b79bbe0-024c-4ffc-aeb7-cecca086d4e0"
      },
      "outputs": [
        {
          "data": {
            "text/plain": [
              "<AxesSubplot:xlabel='datetime'>"
            ]
          },
          "execution_count": 7,
          "metadata": {},
          "output_type": "execute_result"
        },
        {
          "data": {
            "image/png": "[encoded data removed]",
            "text/plain": [
              "<Figure size 432x288 with 1 Axes>"
            ]
          },
          "metadata": {
            "needs_background": "light"
          },
          "output_type": "display_data"
        }
      ],
      "source": [
        "#Gráficamos nuestros datos\n",
        "data.plot()"
      ]
    },
    {
      "cell_type": "markdown",
      "metadata": {
        "id": "3RHS6iaNOFDQ"
      },
      "source": [
        "### Agrupando por horas"
      ]
    },
    {
      "cell_type": "code",
      "execution_count": null,
      "metadata": {
        "id": "pkcECpa6OFDQ",
        "outputId": "349caf94-a659-4084-a27c-5516a6fd1400"
      },
      "outputs": [
        {
          "data": {
            "text/plain": [
              "<AxesSubplot:xlabel='datetime'>"
            ]
          },
          "execution_count": 8,
          "metadata": {},
          "output_type": "execute_result"
        },
        {
          "data": {
            "image/png": "[encoded data removed]",
            "text/plain": [
              "<Figure size 432x288 with 1 Axes>"
            ]
          },
          "metadata": {
            "needs_background": "light"
          },
          "output_type": "display_data"
        }
      ],
      "source": [
        "#Utilizamos el método de remuestreo para que agrupe los datos por hora\n",
        "data = data.resample('1H').sum()\n",
        "data['2018-03-01': '2018-03-08'].plot() #Graficamos la primera semana de nuestros datos"
      ]
    },
    {
      "cell_type": "markdown",
      "source": [
        "Podemos ver en el agrupamiento de nuestra serie que existe algo de estacionalidad. "
      ],
      "metadata": {
        "id": "gJiz68eUOPui"
      }
    },
    {
      "cell_type": "markdown",
      "metadata": {
        "id": "7rlr2L5yOFDQ"
      },
      "source": [
        "### Creación de características"
      ]
    },
    {
      "cell_type": "markdown",
      "metadata": {
        "id": "uZlN0VdPOFDR"
      },
      "source": [
        "Vamos a escribir la función `make_features` para agregar características a nuestro conjunto de datos: \n",
        "- Características de calendario: `year, month, day, dayofweek`\n",
        "- Caracteríticas de desfase: `lag_1, lag_2, lag_3, lag_4, lag_5, lag_6`\n",
        "- Media móvil: `rolling_mean`"
      ]
    },
    {
      "cell_type": "code",
      "execution_count": null,
      "metadata": {
        "id": "kWDr6abNOFDR"
      },
      "outputs": [],
      "source": [
        "def make_features(data, max_lag, rolling_mean_size):\n",
        "    data['year'] = data.index.year\n",
        "    data['month'] = data.index.month\n",
        "    data['day'] = data.index.day\n",
        "    data['dayofweek'] = data.index.dayofweek\n",
        "    \n",
        "    for lag in range(1, max_lag + 1):\n",
        "        data['lag_{}'.format(lag)] = data['num_orders'].shift(lag)\n",
        "\n",
        " \n",
        "    data['rolling_mean'] = (\n",
        "        data['num_orders'].shift().rolling(rolling_mean_size).mean()#La media móvil en t considera el valor actual de la serie x(t), \n",
        "                                                                                                         #el cual no queremos porque el valor actual pertenece al objetivo y no a las características.\n",
        "                                                                                                        #Así que usamos características de desfase para excluir el valor actual\n",
        "    )\n",
        "make_features(data, 30, 10)"
      ]
    },
    {
      "cell_type": "markdown",
      "metadata": {
        "id": "glTy7OF4OFDR"
      },
      "source": [
        "Ya tenemos nuestras características completas con las que trabajaremos. Los valores anteriores al primer valor de las columnas de desfase son valores nulos los cuales debemos eliminar para entrenar a nuestros modelos. "
      ]
    },
    {
      "cell_type": "markdown",
      "metadata": {
        "id": "LrqS0lVMOFDR"
      },
      "source": [
        "## Análisis"
      ]
    },
    {
      "cell_type": "markdown",
      "metadata": {
        "id": "-5yVhhk2OFDR"
      },
      "source": [
        "### Características y objetivo para entrenar los modelos "
      ]
    },
    {
      "cell_type": "code",
      "execution_count": null,
      "metadata": {
        "id": "as_LHUx8OFDR"
      },
      "outputs": [],
      "source": [
        "#Dividimos nuestros datos en test y train\n",
        "train, test = train_test_split(data, shuffle=False, test_size=0.1)\n",
        "train = train.dropna() #Eliminamos los valores nulos\n",
        "\n",
        "#Seleccionamos nuestro conjunto de datos de entrenamiento y prueba\n",
        "features_train = train.drop(['num_orders'], axis=1)\n",
        "target_train = train['num_orders']\n",
        "features_test = test.drop(['num_orders'], axis=1)\n",
        "target_test = test['num_orders']"
      ]
    },
    {
      "cell_type": "markdown",
      "metadata": {
        "id": "0Og99U5XOFDS"
      },
      "source": [
        "### Pruebas de cordura "
      ]
    },
    {
      "cell_type": "code",
      "execution_count": null,
      "metadata": {
        "id": "R2LMNW1uOFDS",
        "outputId": "0c7d14c9-0ad7-4b71-8e0e-40788fca3704"
      },
      "outputs": [
        {
          "name": "stdout",
          "output_type": "stream",
          "text": [
            "Mediana de la cantidad de pedidos: 135.0\n",
            "RMSE: 334.41598250750593\n"
          ]
        }
      ],
      "source": [
        "print('Mediana de la cantidad de pedidos:', test['num_orders'].median())\n",
        "pred_median = np.ones(test.shape) * train['num_orders'].median()\n",
        "rmse_pc = sqrt(mean_squared_error(test, pred_median))\n",
        "print('RMSE:', rmse_pc)"
      ]
    },
    {
      "cell_type": "code",
      "execution_count": null,
      "metadata": {
        "id": "JuBr9uf6OFDS",
        "outputId": "91d3f83f-f88c-476e-9908-81ce809023c9"
      },
      "outputs": [
        {
          "name": "stdout",
          "output_type": "stream",
          "text": [
            "RMSE: 55.07790510124618\n"
          ]
        }
      ],
      "source": [
        "pred_previous = test.shift()\n",
        "pred_previous.iloc[0] = train.iloc[-1]\n",
        "print('RMSE:', sqrt(mean_squared_error(test, pred_previous)))"
      ]
    },
    {
      "cell_type": "markdown",
      "metadata": {
        "id": "ovkbh4sqOFDS"
      },
      "source": [
        "La primera prueba la hicimos con valores constantes, en ese caso fue con la mediana de los datos. La segunda prueba se hizo con el valor anterior de la serie. El menor resultado de error fue con la segunda prueba del valor anterior."
      ]
    },
    {
      "cell_type": "markdown",
      "metadata": {
        "id": "J8gjP-RLOFDS"
      },
      "source": [
        "### LinearRegression"
      ]
    },
    {
      "cell_type": "code",
      "execution_count": null,
      "metadata": {
        "id": "KUhpkyHQOFDS",
        "outputId": "515bbe39-42f8-4851-c007-cc9d4e3112d7"
      },
      "outputs": [
        {
          "name": "stdout",
          "output_type": "stream",
          "text": [
            "RMSE para el conjunto de prueba: 46.886340577530895\n",
            "CPU times: user 11.6 ms, sys: 44.1 ms, total: 55.7 ms\n",
            "Wall time: 54.5 ms\n"
          ]
        }
      ],
      "source": [
        "%%time\n",
        "model_lr = LinearRegression()\n",
        "model_lr.fit(features_train, target_train)\n",
        "\n",
        "pred_train_lr = model_lr.predict(features_train)\n",
        "pred_test_lr = model_lr.predict(features_test)\n",
        "\n",
        "rmse_lr = sqrt(mean_squared_error(target_test, pred_test_lr))\n",
        "\n",
        "print(\"RMSE para el conjunto de prueba:\", rmse_lr)"
      ]
    },
    {
      "cell_type": "markdown",
      "metadata": {
        "id": "6F-QlCkKOFDS"
      },
      "source": [
        "Nuestro modelo de regresión lineal superó nuestra prueba de congruencia además de tener un valor de RMSE menor que el pedido por la compañía. "
      ]
    },
    {
      "cell_type": "markdown",
      "metadata": {
        "id": "x0VgO2UyOFDS"
      },
      "source": [
        "### DecisionTreeRegressor"
      ]
    },
    {
      "cell_type": "code",
      "execution_count": null,
      "metadata": {
        "id": "rxantZYQOFDS",
        "outputId": "2b0cb883-f5e2-4e03-c773-542fba9afd56"
      },
      "outputs": [
        {
          "name": "stdout",
          "output_type": "stream",
          "text": [
            "max_depth = 4 : RMSE: 54.64617058911393\n",
            "max_depth = 5 : RMSE: 62.10613399063284\n",
            "max_depth = 6 : RMSE: 52.935583239138836\n",
            "max_depth = 7 : RMSE: 64.25258990155996\n",
            "max_depth = 8 : RMSE: 62.06063452692765\n",
            "max_depth = 9 : RMSE: 57.40223296726539\n",
            "CPU times: user 472 ms, sys: 82.6 ms, total: 554 ms\n",
            "Wall time: 626 ms\n"
          ]
        }
      ],
      "source": [
        "%%time\n",
        "for depth in range(4, 10):\n",
        "    model_dtr = DecisionTreeRegressor(random_state=12345, max_depth= depth)\n",
        "    model_dtr.fit(features_train, target_train)\n",
        "    predictions_test_dtr = model_dtr.predict(features_test)\n",
        "    rmse_dtr = sqrt(mean_squared_error(target_test, predictions_test_dtr))\n",
        "    \n",
        "    print(\"max_depth =\", depth, \": \", end='')    \n",
        "    print('RMSE:', rmse_dtr) "
      ]
    },
    {
      "cell_type": "markdown",
      "metadata": {
        "id": "2oJ8Uah5OFDT"
      },
      "source": [
        "En el caso de los árboles de regresión, ninguno de los modelos superó el valor que nos pide la compañía."
      ]
    },
    {
      "cell_type": "markdown",
      "metadata": {
        "id": "Ay2kPCNsOFDT"
      },
      "source": [
        "### RandomForestRegressor"
      ]
    },
    {
      "cell_type": "code",
      "execution_count": null,
      "metadata": {
        "id": "MzF2a0CgOFDT",
        "outputId": "272602e9-1a06-4b02-9cf0-58acc1729565"
      },
      "outputs": [
        {
          "name": "stdout",
          "output_type": "stream",
          "text": [
            "RMSE: 43.54776772227 n_estimators: 60 best_depth: 9\n",
            "CPU times: user 24.7 s, sys: 38.2 ms, total: 24.8 s\n",
            "Wall time: 24.8 s\n"
          ]
        }
      ],
      "source": [
        "%%time\n",
        "\n",
        "best_model = None\n",
        "best_result = 10000\n",
        "best_est = 0\n",
        "best_depth = 0\n",
        "\n",
        "for est in range(10, 100,50):\n",
        "    for depth in range (3,11):\n",
        "        model_rfr = RandomForestRegressor(random_state=12345,n_estimators=est, max_depth=depth)\n",
        "        model_rfr.fit(features_train, target_train)\n",
        "        predictions_test_rfr = model_rfr.predict(features_test) \n",
        "        result = sqrt(mean_squared_error(target_test, predictions_test_rfr))\n",
        "        \n",
        "        if result < best_result:\n",
        "            best_model = model_rfr\n",
        "            best_result = result\n",
        "            best_est = est\n",
        "            best_depth = depth\n",
        "\n",
        "            \n",
        "print('RMSE:', best_result, 'n_estimators:', best_est, 'best_depth:', best_depth)"
      ]
    },
    {
      "cell_type": "markdown",
      "metadata": {
        "id": "8RSvl2VNOFDT"
      },
      "source": [
        "Nuestro modelo con el algoritmo Random Forest Regressor tuvo un error de 43, menor que el de la regresión lineal y menor de 48 que es lo que nos pide la compañía. "
      ]
    },
    {
      "cell_type": "markdown",
      "metadata": {
        "id": "Re9DZUuoOFDT"
      },
      "source": [
        "### LGBMRegressor"
      ]
    },
    {
      "cell_type": "code",
      "execution_count": null,
      "metadata": {
        "id": "4Xb4g4IfOFDT"
      },
      "outputs": [],
      "source": [
        "model = lgb.LGBMRegressor()\n",
        "\n",
        "#Creando un diccionario con las iteraciones del modelo\n",
        "grid = dict()\n",
        "# valores para iterar\n",
        "grid['learning_rate'] = [0.1, 0.5]\n",
        "grid['max_depth'] = [-1]\n",
        "grid['n_estimators'] = [100,150]"
      ]
    },
    {
      "cell_type": "code",
      "execution_count": null,
      "metadata": {
        "id": "HdbV3X11OFDT",
        "outputId": "3830a423-2e7e-4829-ae61-199b0323aaba"
      },
      "outputs": [
        {
          "name": "stdout",
          "output_type": "stream",
          "text": [
            "Accuracy score: 0.392674 using {'learning_rate': 0.1, 'max_depth': -1, 'n_estimators': 100}\n"
          ]
        }
      ],
      "source": [
        "# aplicando el métidi GridSearchCV\n",
        "grid_search = GridSearchCV(estimator=model, param_grid=grid, n_jobs=-1, cv=2)\n",
        "# guardando los valores\n",
        "grid_result = grid_search.fit(features_train,target_train)\n",
        "# imprimiendo los mejores parametros\n",
        "print(\"Accuracy score: %f using %s\" % (grid_result.best_score_, grid_result.best_params_))"
      ]
    },
    {
      "cell_type": "code",
      "execution_count": null,
      "metadata": {
        "id": "ibAwMURTOFDT",
        "outputId": "439152e2-b8fb-4c70-df72-a6b2b6632680"
      },
      "outputs": [
        {
          "name": "stdout",
          "output_type": "stream",
          "text": [
            "CPU times: user 1.19 s, sys: 14.7 ms, total: 1.21 s\n",
            "Wall time: 1.2 s\n"
          ]
        },
        {
          "data": {
            "text/plain": [
              "41.7587946904251"
            ]
          },
          "execution_count": 18,
          "metadata": {},
          "output_type": "execute_result"
        }
      ],
      "source": [
        "%%time \n",
        "model_reg = lgb.LGBMRegressor(**grid_result.best_params_, random_state=12345)\n",
        "model_reg.fit(features_train,target_train)\n",
        "reg_pred = model_reg.predict(features_test)\n",
        "rmse_reg = sqrt(mean_squared_error(target_test, reg_pred))\n",
        "rmse_reg"
      ]
    },
    {
      "cell_type": "markdown",
      "metadata": {
        "id": "u8UoJlbJOFDU"
      },
      "source": [
        "De los modelos que hemos probado, el que mejor rendimiento ha tenido en relación con la métrica de RMSE ha sido el de LGBMregreressor. Obtuvo un valor menor que el del algoritmo Random Forest Regressor"
      ]
    },
    {
      "cell_type": "markdown",
      "metadata": {
        "id": "dSdSOvwuOFDU"
      },
      "source": [
        "### XGBRegressor"
      ]
    },
    {
      "cell_type": "code",
      "execution_count": null,
      "metadata": {
        "id": "X7P8tocaOFDU"
      },
      "outputs": [],
      "source": [
        "from xgboost import XGBRegressor"
      ]
    },
    {
      "cell_type": "code",
      "execution_count": null,
      "metadata": {
        "id": "Ejbf9AuEOFDU",
        "outputId": "99d97204-a119-43a0-b3a0-335c88dc1c39"
      },
      "outputs": [
        {
          "name": "stdout",
          "output_type": "stream",
          "text": [
            "CPU times: user 4.16 s, sys: 22.1 ms, total: 4.18 s\n",
            "Wall time: 4.21 s\n"
          ]
        },
        {
          "data": {
            "text/plain": [
              "45.615634154285175"
            ]
          },
          "execution_count": 20,
          "metadata": {},
          "output_type": "execute_result"
        }
      ],
      "source": [
        "%%time\n",
        "model_XGB = XGBRegressor(random_state=12345)\n",
        "model_XGB.fit(features_train,target_train)\n",
        "XGB_pred = model_XGB.predict(features_test)\n",
        "rmse_xgb = sqrt(mean_squared_error(target_test, XGB_pred))\n",
        "rmse_xgb"
      ]
    },
    {
      "cell_type": "markdown",
      "metadata": {
        "id": "GdzRuTECOFDU"
      },
      "source": [
        "Nuestro último modelo obtuvo una métrica menor a 48, sin embargo, no superó al nuestro modelo anterior que fue el que obtuvo el mejor desempeño. "
      ]
    },
    {
      "cell_type": "markdown",
      "metadata": {
        "id": "WZkihEw5OFDU"
      },
      "source": [
        "## Análisis de modelos"
      ]
    },
    {
      "cell_type": "markdown",
      "metadata": {
        "id": "RkvFZJg8OFDU"
      },
      "source": [
        "De nuestros 5 modelos probados, el que obtuvo mejor desempeño fue `LGBMRegressor` con relación al menor error en sus predicciones. "
      ]
    },
    {
      "cell_type": "code",
      "execution_count": null,
      "metadata": {
        "id": "9JVRVpqHOFDU",
        "outputId": "eb8c7cc4-ffdb-48d2-d6e2-1410acff1ac5"
      },
      "outputs": [
        {
          "data": {
            "text/html": [
              "<div>\n",
              "<style scoped>\n",
              "    .dataframe tbody tr th:only-of-type {\n",
              "        vertical-align: middle;\n",
              "    }\n",
              "\n",
              "    .dataframe tbody tr th {\n",
              "        vertical-align: top;\n",
              "    }\n",
              "\n",
              "    .dataframe thead th {\n",
              "        text-align: right;\n",
              "    }\n",
              "</style>\n",
              "<table border=\"1\" class=\"dataframe\">\n",
              "  <thead>\n",
              "    <tr style=\"text-align: right;\">\n",
              "      <th></th>\n",
              "      <th>Algoritmo</th>\n",
              "      <th>RMSE</th>\n",
              "    </tr>\n",
              "  </thead>\n",
              "  <tbody>\n",
              "    <tr>\n",
              "      <th>0</th>\n",
              "      <td>LinearRegression</td>\n",
              "      <td>46.886341</td>\n",
              "    </tr>\n",
              "    <tr>\n",
              "      <th>1</th>\n",
              "      <td>DecisionTreeRegressor</td>\n",
              "      <td>57.402233</td>\n",
              "    </tr>\n",
              "    <tr>\n",
              "      <th>2</th>\n",
              "      <td>RandomForestRegressor</td>\n",
              "      <td>43.547768</td>\n",
              "    </tr>\n",
              "    <tr>\n",
              "      <th>3</th>\n",
              "      <td>LGBMRegressor</td>\n",
              "      <td>41.758795</td>\n",
              "    </tr>\n",
              "    <tr>\n",
              "      <th>4</th>\n",
              "      <td>XGBRegressor</td>\n",
              "      <td>45.615634</td>\n",
              "    </tr>\n",
              "  </tbody>\n",
              "</table>\n",
              "</div>"
            ],
            "text/plain": [
              "               Algoritmo       RMSE\n",
              "0       LinearRegression  46.886341\n",
              "1  DecisionTreeRegressor  57.402233\n",
              "2  RandomForestRegressor  43.547768\n",
              "3          LGBMRegressor  41.758795\n",
              "4           XGBRegressor  45.615634"
            ]
          },
          "execution_count": 21,
          "metadata": {},
          "output_type": "execute_result"
        }
      ],
      "source": [
        "rmse_total = pd.DataFrame({'Algoritmo': ['LinearRegression','DecisionTreeRegressor', 'RandomForestRegressor', 'LGBMRegressor','XGBRegressor'],\n",
        "    'RMSE': [rmse_lr, rmse_dtr, best_result,rmse_reg, rmse_xgb ]\n",
        "})\n",
        "\n",
        "rmse_total"
      ]
    },
    {
      "cell_type": "markdown",
      "metadata": {
        "id": "lD6enfAZOFDU"
      },
      "source": [
        "## Conclusiones "
      ]
    },
    {
      "cell_type": "markdown",
      "metadata": {
        "id": "l5oYI3voOFDV"
      },
      "source": [
        "- Los datos no tenían valores nulos\n",
        "- Se cambió el tipo de dato de la columna datatime de object a datetime64\n",
        "- Establecí la columna datatime como el índice de nuestros datos.\n",
        "- Ordenamos los indices de manera cronologíca\n",
        "- Agrupamos los valores por horas.\n",
        "- Hicimos una función para agregar características a nuestro conjunto. \n",
        "- Hicimos dos pruebas de cordura, una con un valor constante y la otra con el valor anterior de cada dato.\n",
        "- Se probaron 5 modelos\n",
        "- El que mejores resultados obtuvo fue LGBMregressor con una métrica de RMSE de 42"
      ]
    }
  ],
  "metadata": {
    "kernelspec": {
      "display_name": "Python 3 (ipykernel)",
      "language": "python",
      "name": "python3"
    },
    "language_info": {
      "codemirror_mode": {
        "name": "ipython",
        "version": 3
      },
      "file_extension": ".py",
      "mimetype": "text/x-python",
      "name": "python",
      "nbconvert_exporter": "python",
      "pygments_lexer": "ipython3",
      "version": "3.9.5"
    },
    "toc": {
      "base_numbering": 1,
      "nav_menu": {},
      "number_sections": true,
      "sideBar": true,
      "skip_h1_title": true,
      "title_cell": "Table of Contents",
      "title_sidebar": "Contents",
      "toc_cell": false,
      "toc_position": {
        "height": "calc(100% - 180px)",
        "left": "10px",
        "top": "150px",
        "width": "255.188px"
      },
      "toc_section_display": true,
      "toc_window_display": true
    },
    "colab": {
      "provenance": []
    }
  },
  "nbformat": 4,
  "nbformat_minor": 0
}